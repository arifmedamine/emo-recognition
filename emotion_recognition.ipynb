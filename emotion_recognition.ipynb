{
  "nbformat": 4,
  "nbformat_minor": 0,
  "metadata": {
    "colab": {
      "name": "emotion_recognition.ipynb",
      "private_outputs": true,
      "provenance": [],
      "collapsed_sections": []
    },
    "kernelspec": {
      "name": "python3",
      "display_name": "Python 3"
    },
    "accelerator": "GPU"
  },
  "cells": [
    {
      "cell_type": "code",
      "metadata": {
        "id": "QM67YEkHHrBA"
      },
      "source": [
        "import pandas as pd\n",
        "import numpy as np\n",
        "from keras.models import Sequential\n",
        "from keras.layers.core import Flatten, Dense, Dropout\n",
        "from keras.layers.convolutional import Convolution2D, MaxPooling2D, ZeroPadding2D\n",
        "from keras.optimizers import SGD\n",
        "import cv2"
      ],
      "execution_count": null,
      "outputs": []
    },
    {
      "cell_type": "code",
      "metadata": {
        "id": "PIVTS2PHI1X2"
      },
      "source": [
        "X_train, train_y, X_test, test_y = [],[],[],[]"
      ],
      "execution_count": null,
      "outputs": []
    },
    {
      "cell_type": "code",
      "metadata": {
        "id": "q6grk1z9Rclh"
      },
      "source": [
        "df = pd.read_csv('/content/fer2013.csv')"
      ],
      "execution_count": null,
      "outputs": []
    },
    {
      "cell_type": "code",
      "metadata": {
        "id": "wx_-dRs_SrPN"
      },
      "source": [
        "for index, row in df.iterrows():\n",
        "  val = row['pixels'].split(\" \")\n",
        "  try:\n",
        "    if 'Training' in row['Usage']:\n",
        "      X_train.append(np.array(val, 'float32'))\n",
        "      train_y.append(row['emotion'])\n",
        "    elif 'PublicTest' in row['Usage']:\n",
        "      X_test.append(np.array(val, 'float32'))\n",
        "      test_y.append(row['emotion'])\n",
        "  except:\n",
        "    print(f\"error accured at index : {index} and row : {row}\")"
      ],
      "execution_count": null,
      "outputs": []
    },
    {
      "cell_type": "code",
      "metadata": {
        "id": "dqxEU0o1WXOE"
      },
      "source": [
        "num_features = 64\n",
        "num_labels = 7\n",
        "batsh_size = 64\n",
        "epochs = 200\n",
        "width, height = 48, 48"
      ],
      "execution_count": null,
      "outputs": []
    },
    {
      "cell_type": "code",
      "metadata": {
        "id": "vwVZ0vysWq3K"
      },
      "source": [
        "X_train = np.array(X_train, 'float32')\n",
        "train_y = np.array(train_y, 'float32')\n",
        "X_test = np.array(X_test, 'float32')\n",
        "test_y = np.array(test_y, 'float32')"
      ],
      "execution_count": null,
      "outputs": []
    },
    {
      "cell_type": "code",
      "metadata": {
        "id": "Nc9NQi-nXS7l"
      },
      "source": [
        "from keras.utils.np_utils import to_categorical"
      ],
      "execution_count": null,
      "outputs": []
    },
    {
      "cell_type": "code",
      "metadata": {
        "id": "vCykmy5OXhPn"
      },
      "source": [
        "train_y = to_categorical(train_y, num_classes=num_labels)\n",
        "test_y = to_categorical(test_y, num_classes=num_labels)"
      ],
      "execution_count": null,
      "outputs": []
    },
    {
      "cell_type": "code",
      "metadata": {
        "id": "3SXBuNowYPq9"
      },
      "source": [
        "X_train -= np.mean(X_train, axis=0)\n",
        "X_train /= np.std(X_train, axis=0)\n",
        "\n",
        "X_test -= np.mean(X_test, axis=0)\n",
        "X_test /= np.std(X_test, axis=0)\n",
        "\n",
        "X_train = X_train.reshape(X_train.shape[0], 48, 48, 1)\n",
        "X_test = X_test.reshape(X_test.shape[0], 48, 48, 1)"
      ],
      "execution_count": null,
      "outputs": []
    },
    {
      "cell_type": "code",
      "metadata": {
        "id": "Op8xwAZrZfX4"
      },
      "source": [
        "from tensorflow.keras.layers import Dense, Conv2D, Flatten, Dropout, MaxPooling2D, Activation\n",
        "from tensorflow.keras.preprocessing import image\n",
        "import matplotlib.pyplot as plt\n",
        "from tensorflow.keras.losses import categorical_crossentropy\n",
        "from tensorflow.keras import layers\n",
        "from tensorflow import keras"
      ],
      "execution_count": null,
      "outputs": []
    },
    {
      "cell_type": "code",
      "metadata": {
        "id": "DqSqlnK1aUnt"
      },
      "source": [
        "model = Sequential()\n",
        "\n",
        "model.add(Conv2D(64, kernel_size=(3,3), activation='relu', input_shape=(X_train.shape[1:])))\n",
        "model.add(Conv2D(64, kernel_size=(3,3), activation='relu'))\n",
        "model.add(MaxPooling2D(pool_size=(2, 2), strides=(2, 2)))\n",
        "model.add(Dropout(0.5))\n",
        "\n",
        "model.add(Conv2D(64, (3,3), activation='relu'))\n",
        "model.add(Conv2D(64, (3,3), activation='relu'))\n",
        "model.add(MaxPooling2D(pool_size=(2, 2), strides=(2, 2)))\n",
        "model.add(Dropout(0.5))\n",
        "\n",
        "model.add(Conv2D(128, (3,3), activation='relu'))\n",
        "model.add(Conv2D(128, (3,3), activation='relu'))\n",
        "model.add(MaxPooling2D(pool_size=(2, 2), strides=(2, 2)))\n",
        "\n",
        "model.add(Flatten())\n",
        "\n",
        "model.add(Dense(1024, activation='relu'))\n",
        "model.add(Dropout(0.2))\n",
        "model.add(Dense(1024, activation='relu'))\n",
        "model.add(Dropout(0.2))\n",
        "\n",
        "model.add(Dense(num_labels, activation='softmax'))\n"
      ],
      "execution_count": null,
      "outputs": []
    },
    {
      "cell_type": "code",
      "metadata": {
        "id": "xETDnJHZaXKQ"
      },
      "source": [
        "model.compile(loss=categorical_crossentropy,\n",
        "              optimizer='sgd',\n",
        "              metrics=['accuracy'])"
      ],
      "execution_count": null,
      "outputs": []
    },
    {
      "cell_type": "code",
      "metadata": {
        "id": "EF3crYY8hGTP"
      },
      "source": [
        "model.fit(X_train, train_y,\n",
        "          batch_size=batsh_size,\n",
        "          epochs=epochs,\n",
        "          verbose=1,\n",
        "          validation_data=(X_test, test_y),\n",
        "          shuffle=True)"
      ],
      "execution_count": null,
      "outputs": []
    },
    {
      "cell_type": "code",
      "metadata": {
        "id": "C5IHZluVh6FB"
      },
      "source": [
        "fer_json = model.to_json()\n",
        "with open(\"fer.json\", \"w\") as json_file:\n",
        "  json_file.write(fer_json)\n",
        "model.save_weights(\"fer.h5\")"
      ],
      "execution_count": null,
      "outputs": []
    },
    {
      "cell_type": "code",
      "metadata": {
        "id": "85-Q60OvwdFt"
      },
      "source": [
        "import os\n",
        "import cv2\n",
        "import numpy as np\n",
        "from keras.models import model_from_json\n",
        "from keras.preprocessing import image\n"
      ],
      "execution_count": null,
      "outputs": []
    },
    {
      "cell_type": "code",
      "metadata": {
        "id": "4fp8mWmxz2Bu"
      },
      "source": [
        "model = model_from_json(open(\"fer.json\", \"r\").read())\n",
        "model.load_weights('fer.h5')"
      ],
      "execution_count": null,
      "outputs": []
    },
    {
      "cell_type": "code",
      "metadata": {
        "id": "3lHfXYsO15n7"
      },
      "source": [
        "from google.colab.patches import cv2_imshow\n",
        "import cv2\n",
        "test_image = cv2.imread('/content/sadem.jpg')\n",
        "gray_image = cv2.cvtColor(test_image, cv2.COLOR_BGR2GRAY)\n",
        "cv2_imshow(gray_image)"
      ],
      "execution_count": null,
      "outputs": []
    },
    {
      "cell_type": "code",
      "metadata": {
        "id": "a3Z6GVW22xiu"
      },
      "source": [
        "from keras.preprocessing.image import img_to_array\n",
        "face_haar_cascade = cv2.CascadeClassifier('/content/haarcascade_frontalface_default.xml')\n",
        "faces = face_haar_cascade.detectMultiScale(gray_image, 1.1, 4)\n",
        "for(x ,y ,w, h) in faces:\n",
        "  cv2.rectangle(test_image, (x, y), (x+w, y+h), (255,0,0))\n",
        "  roi_gray = gray_image[y:y+w, x:x+h]\n",
        "  roi_gray = cv2.resize(roi_gray, (48,48))\n",
        "  image_pixels = img_to_array(roi_gray)\n",
        "  image_pixels = np.expand_dims(image_pixels, axis=0)\n",
        "  image_pixels /= 255\n",
        "  predictions = model.predict(image_pixels)\n",
        "  max_index = np.argmax(predictions[0])\n",
        "  emotion_detection = ('angry', 'disgust', 'fear', 'happy', 'sad', 'surprise', 'neutral')\n",
        "  emotion_prediction = emotion_detection[max_index]\n",
        "  print(emotion_prediction)\n",
        "\n",
        "  font = cv2.FONT_HERSHEY_SIMPLEX\n",
        "  org = (50,50)\n",
        "  frontScale = 1\n",
        "  color = (255, 0, 0)\n",
        "  thickness = 2\n",
        "\n",
        "  image = cv2.putText(test_image, emotion_prediction, org, font, \n",
        "                      frontScale, color, thickness, cv2.LINE_AA)\n",
        "  cv2_imshow(image)\n"
      ],
      "execution_count": null,
      "outputs": []
    }
  ]
}